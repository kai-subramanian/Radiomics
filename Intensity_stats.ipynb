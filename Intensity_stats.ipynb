{
 "cells": [
  {
   "cell_type": "code",
   "execution_count": 4,
   "metadata": {},
   "outputs": [],
   "source": [
    "from IPython.display import Image\n",
    "from PIL import Image,ImageOps\n",
    "import PIL.Image\n",
    "from mysql.connector import Error\n",
    "from scipy.stats import skew\n",
    "import numpy as np\n",
    "import mysql.connector\n",
    "import pandas as pd\n",
    "import matplotlib.pyplot as plt"
   ]
  },
  {
   "cell_type": "code",
   "execution_count": 5,
   "metadata": {},
   "outputs": [],
   "source": [
    "def create_db_conn(hostname,userid,pw,db):\n",
    "    conn=None\n",
    "    try:\n",
    "        conn=mysql.connector.connect(host=hostname,user=userid,passwd=pw,database=db)\n",
    "        print(\"Connection successful !\")\n",
    "    except Error as er:\n",
    "        print(f\"Error : '{er}'\")\n",
    "    return conn\n",
    "\n",
    "def create_db(connection,query):\n",
    "    cursor = connection.cursor()\n",
    "    try:\n",
    "        cursor.execute(query)\n",
    "        print(\"DB created successfully!\")\n",
    "    except Error as er:\n",
    "        print(f\"Error : '{er}'\")\n",
    "        \n",
    "def execute_query(connection,query,val):\n",
    "    cursor = connection.cursor()\n",
    "    try:\n",
    "        cursor.execute(query,val)\n",
    "        connection.commit()\n",
    "        print(\"Query successful\")\n",
    "    except Error as er:\n",
    "        print(f\"Error:'{er}'\")"
   ]
  },
  {
   "cell_type": "code",
   "execution_count": 6,
   "metadata": {
    "scrolled": true
   },
   "outputs": [
    {
     "name": "stdout",
     "output_type": "stream",
     "text": [
      "Connection successful !\n"
     ]
    }
   ],
   "source": [
    "#EST. DB CONNECTION\n",
    "connect = create_db_conn(\"localhost\",\"root\",\"\",\"radiomix\")"
   ]
  },
  {
   "cell_type": "code",
   "execution_count": 7,
   "metadata": {},
   "outputs": [
    {
     "name": "stdout",
     "output_type": "stream",
     "text": [
      "[101 101 101 ... 101 101 101]\n"
     ]
    }
   ],
   "source": [
    "#OPEN IMAGE AND CONVERT TO GRAYSCALE\n",
    "main = PIL.Image.open(\"/home/kailash/DIP Project/archive/AbdomenCT/000017.jpeg\")\n",
    "sample = ImageOps.grayscale(main)\n",
    "sample_seq = sample.getdata()\n",
    "sample_arr = np.array(sample_seq)\n",
    "print(sample_arr)\n",
    "sample.show()\n",
    "#WONT BE USING THIS IF DATASET IS ALREADY IN GRAYSCALE/B&W"
   ]
  },
  {
   "cell_type": "code",
   "execution_count": 8,
   "metadata": {},
   "outputs": [
    {
     "name": "stdout",
     "output_type": "stream",
     "text": [
      "112.09033203125\n",
      "102.0\n",
      "25.695998143541345\n",
      "660.2843205928802\n",
      "459122\n",
      "3.497924995163927\n"
     ]
    }
   ],
   "source": [
    "#CALCULATE INTENSITY STATISTICS\n",
    "intensity_array = np.array(sample_arr)\n",
    "#MEAN\n",
    "intensity_mean = np.mean(intensity_array)\n",
    "print(intensity_mean)\n",
    "#MEDIAN\n",
    "intensity_median = np.median(intensity_array)\n",
    "print(intensity_median)\n",
    "#STANDARD DEVIATION\n",
    "intensity_std = np.std(intensity_array)\n",
    "print(intensity_std)\n",
    "#VARIANCE\n",
    "intensity_var = np.var(intensity_array)\n",
    "print(intensity_var)\n",
    "#SUMMATION\n",
    "a = np.sum(intensity_array)\n",
    "print(a)\n",
    "#SKEW\n",
    "#y1 = 1./(np.sqrt(2.*np.pi)) * np.exp( -.5*(intensity_array)**2)\n",
    "print(skew(intensity_array))"
   ]
  },
  {
   "cell_type": "code",
   "execution_count": 9,
   "metadata": {},
   "outputs": [
    {
     "name": "stdout",
     "output_type": "stream",
     "text": [
      "112.09\n",
      "102.0\n",
      "25.7\n",
      "660.28\n",
      "3.5\n"
     ]
    }
   ],
   "source": [
    "#truncate the values before inserting into database\n",
    "intensity_mean=str(round(intensity_mean,2))\n",
    "intensity_median=str(round(intensity_median,2))\n",
    "intensity_std=str(round(intensity_std,2))\n",
    "intensity_var=str(round(intensity_var,2))\n",
    "intensity_skew=str(round(skew(intensity_array),2))\n",
    "print(intensity_mean)\n",
    "print(intensity_median)\n",
    "print(intensity_std)\n",
    "print(intensity_var)\n",
    "print(intensity_skew)"
   ]
  },
  {
   "cell_type": "code",
   "execution_count": 10,
   "metadata": {},
   "outputs": [
    {
     "name": "stdout",
     "output_type": "stream",
     "text": [
      "3\n",
      "Query successful\n"
     ]
    }
   ],
   "source": [
    "insert_q = \"INSERT INTO intensity_stats VALUES(%s,%s,%s,%s,%s,%s)\"\n",
    "id=int(input())\n",
    "val = (intensity_mean,intensity_median,intensity_std,intensity_var,intensity_skew,id)\n",
    "execute_query(connect,insert_q,val)"
   ]
  },
  {
   "cell_type": "code",
   "execution_count": null,
   "metadata": {},
   "outputs": [],
   "source": []
  }
 ],
 "metadata": {
  "kernelspec": {
   "display_name": "Python 3",
   "language": "python",
   "name": "python3"
  },
  "language_info": {
   "codemirror_mode": {
    "name": "ipython",
    "version": 3
   },
   "file_extension": ".py",
   "mimetype": "text/x-python",
   "name": "python",
   "nbconvert_exporter": "python",
   "pygments_lexer": "ipython3",
   "version": "3.8.5"
  }
 },
 "nbformat": 4,
 "nbformat_minor": 4
}
